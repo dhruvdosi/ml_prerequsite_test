{
 "cells": [
  {
   "cell_type": "markdown",
   "id": "fe01f2e5",
   "metadata": {},
   "source": [
    "Q1. For (n,k).(k,m) matrix multiplication, k time multiplication operation takes place to give one element and (k-1) times addition takes place for the same.\n",
    "Total multiplication = n*m*k\n",
    "Total addition = n*m*(k-1)\n",
    "Total operations = n*m*(2k-1)"
   ]
  },
  {
   "cell_type": "code",
   "execution_count": 1,
   "id": "bd35896c",
   "metadata": {},
   "outputs": [
    {
     "name": "stdout",
     "output_type": "stream",
     "text": [
      "0.00015460000000011576\n",
      "[[84, 90, 96], [201, 216, 231], [318, 342, 366]]\n",
      "0.00019539999999995672\n",
      "[[ 84  90  96]\n",
      " [201 216 231]\n",
      " [318 342 366]]\n"
     ]
    }
   ],
   "source": [
    "#Q2 I will be considering a 3*3 matrix\n",
    "import numpy as np\n",
    "import timeit\n",
    "\n",
    "start1 = timeit.default_timer()\n",
    "A = [[1, 2, 3],\n",
    "     [4, 5, 6],\n",
    "     [7, 8, 9]]\n",
    "B = [[10,11,12],\n",
    "     [13,14,15],\n",
    "     [16,17,18]]\n",
    "\n",
    "out = [([0]*3) for i in range(3)]\n",
    "\n",
    "for i in range(3):\n",
    "    for j in range(3):\n",
    "        for k in range(3):\n",
    "            out[i][j] = out[i][j] + A[i][k]*B[k][j]\n",
    "end1 = timeit.default_timer()\n",
    "print(end1-start1)\n",
    "print(out)\n",
    "\n",
    "A = np.array(A)\n",
    "B = np.array(B)\n",
    "start2 = timeit.default_timer()\n",
    "outnp = np.dot(A,B)\n",
    "end2 = timeit.default_timer()\n",
    "print(end2-start2)\n",
    "print(outnp)"
   ]
  },
  {
   "cell_type": "markdown",
   "id": "ece8287a",
   "metadata": {},
   "source": [
    "Multiplication with numpy is significantly better with time.\n",
    "Numpy arrays are stored in contigous memory block, allowing it to perform multiplication effectively. On the other hand, python lists are stored in fragmented way which slows down the operations.\n",
    "Also numpy uses pre compiled and optimised functions resulting in lesser time consumption."
   ]
  },
  {
   "cell_type": "code",
   "execution_count": 2,
   "id": "133eae33",
   "metadata": {},
   "outputs": [
    {
     "name": "stdout",
     "output_type": "stream",
     "text": [
      "Median with sorting  0.481243771717556\n",
      "Time taken  0.0004347999999998464\n",
      "Median with numpy  0.481243771717556\n",
      "Time taken  0.000520800000000321\n"
     ]
    }
   ],
   "source": [
    "#Q3\n",
    "arr = np.random.rand(10**3)\n",
    "#using given method\n",
    "# arr2 = arr\n",
    "# start = timeit.default_timer()\n",
    "\n",
    "# if len(arr2)%2==0:\n",
    "#     for i in range((len(arr2)//2)+1):\n",
    "#         maxx = -1\n",
    "#         secmaxx = maxx\n",
    "#         for j in range(len(arr)):\n",
    "#             num = arr[j]\n",
    "#             if num>maxx:\n",
    "#                 secmaxx = maxx\n",
    "#                 maxx = num\n",
    "#                 arr2 = np.delete(arr2,j)\n",
    "#     med1  = (maxx+secmaxx)/2\n",
    "# end = timeit.default_timer()\n",
    "# print(\"Median with looping \",med1)\n",
    "# print(\"Time taken \",end-start)\n",
    "\n",
    "#A better method can be by first sorting the array and then taking the middle element\n",
    "start = timeit.default_timer()\n",
    "\n",
    "sort_arr = sorted(arr)\n",
    "n = len(arr)\n",
    "if n % 2 == 1:  # Odd number of elements\n",
    "     med2 = sort_arr[n // 2]  # Middle element is the median\n",
    "else:  # Even number of elements\n",
    "    med2 = (sort_arr[n // 2 - 1] + sort_arr[n // 2]) / 2  # Average of middle two elements\n",
    "\n",
    "end = timeit.default_timer()\n",
    "\n",
    "print(\"Median with sorting \",med2)\n",
    "print(\"Time taken \", end-start)\n",
    "\n",
    "start = timeit.default_timer()\n",
    "med3 = np.median(arr)\n",
    "end = timeit.default_timer()\n",
    "\n",
    "print(\"Median with numpy \",med3)\n",
    "print(\"Time taken \", end-start)"
   ]
  },
  {
   "cell_type": "markdown",
   "id": "6f8d82bf",
   "metadata": {},
   "source": [
    "Q4\n",
    "wrt x:\n",
    "$2*x*y+y^3*cos(x)$\n",
    "wrt y:\n",
    "$x^2*+3*y^2*sin(x)$"
   ]
  },
  {
   "cell_type": "code",
   "execution_count": 3,
   "id": "7c3bfffa",
   "metadata": {},
   "outputs": [
    {
     "data": {
      "text/plain": [
       "{2022: {'Branch 1': {'Roll Number': 1,\n",
       "   'Name': 'N',\n",
       "   'Marks': {'Maths': 100, 'English': 70}},\n",
       "  'Branch 2': {}},\n",
       " 2023: {'Branch 1': {}, 'Branch 2': {}},\n",
       " 2024: {'Branch 1': {}, 'Branch 2': {}},\n",
       " 2025: {'Branch 1': {}, 'Branch 2': {}}}"
      ]
     },
     "execution_count": 3,
     "metadata": {},
     "output_type": "execute_result"
    }
   ],
   "source": [
    "#Q7\n",
    "\n",
    "student_records = {\n",
    "    2022: {\n",
    "        'Branch 1': {\n",
    "            'Roll Number': 1,\n",
    "            'Name': 'N',\n",
    "            'Marks': {\n",
    "                'Maths': 100,\n",
    "                'English': 70\n",
    "            }\n",
    "        },\n",
    "        'Branch 2': {\n",
    "        }\n",
    "    },\n",
    "    2023: {\n",
    "        'Branch 1': {},\n",
    "        'Branch 2': {}\n",
    "    },\n",
    "    2024: {\n",
    "        'Branch 1': {},\n",
    "        'Branch 2': {}\n",
    "    },\n",
    "    2025: {\n",
    "        'Branch 1': {},\n",
    "        'Branch 2': {}\n",
    "    }\n",
    "}\n",
    "student_records"
   ]
  },
  {
   "cell_type": "code",
   "execution_count": 4,
   "id": "161d2dfb",
   "metadata": {},
   "outputs": [
    {
     "data": {
      "image/png": "[encoded data removed]",
      "text/plain": [
       "<Figure size 640x480 with 1 Axes>"
      ]
     },
     "metadata": {},
     "output_type": "display_data"
    }
   ],
   "source": [
    "#Q9\n",
    "import matplotlib.pyplot as plt\n",
    "\n",
    "\n",
    "def fn(x):\n",
    "    #return x\n",
    "    #return x**2\n",
    "    #return (x**3)/100\n",
    "    #return np.sin(x)\n",
    "    #return (np.sin(x))/x\n",
    "    #return np.log(x)\n",
    "    return np.exp(x)\n",
    "\n",
    "x_values = np.arange(0.5, 100.0, 0.5)\n",
    "\n",
    "y_values = fn(x_values)\n",
    "\n",
    "plt.plot(x_values, y_values)\n",
    "\n",
    "# Adding labels and title\n",
    "plt.xlabel('x')\n",
    "plt.ylabel('y')\n",
    "\n",
    "plt.show()"
   ]
  },
  {
   "cell_type": "code",
   "execution_count": 5,
   "id": "7a3c5416",
   "metadata": {},
   "outputs": [
    {
     "name": "stdout",
     "output_type": "stream",
     "text": [
      "Column with highest std  a\n",
      "Row with lowest mean  11\n"
     ]
    }
   ],
   "source": [
    "#Q10\n",
    "import pandas as pd\n",
    "random_matrix = np.random.uniform(1, 2, size=(20, 5))\n",
    "\n",
    "df = pd.DataFrame(random_matrix, columns=['a', 'b', 'c', 'd', 'e'])\n",
    "col_idx = df.std().idxmax()\n",
    "row_idx = df.mean(axis=1).idxmin()\n",
    "\n",
    "print(\"Column with highest std \", col_idx)\n",
    "print(\"Row with lowest mean \",row_idx)"
   ]
  },
  {
   "cell_type": "code",
   "execution_count": 6,
   "id": "b605f9d2",
   "metadata": {},
   "outputs": [
    {
     "name": "stdout",
     "output_type": "stream",
     "text": [
      "Total rows with lt8:  18\n",
      "Standard Devaiation of f where g is lt8:  0.39228172929464616\n",
      "std of f where g is gt8:  0.24590373726609618\n"
     ]
    }
   ],
   "source": [
    "#Q11\n",
    "\n",
    "df['f'] = df[['a', 'b', 'c', 'd', 'e']].sum(axis=1)\n",
    "df['g'] = np.where(df['f'] < 8, 'LT8', 'GT8')\n",
    " \n",
    "lt8rows = df[df['g'] == 'LT8'].shape[0]\n",
    "\n",
    "lt8_std = df.loc[df['g'] == 'LT8', 'f'].std()\n",
    "gt8_std = df.loc[df['g'] == 'GT8', 'f'].std()\n",
    "\n",
    "print(\"Total rows with lt8: \", lt8rows)\n",
    "print(\"Standard Devaiation of f where g is lt8: \",lt8_std)\n",
    "print(\"std of f where g is gt8: \", gt8_std)"
   ]
  },
  {
   "cell_type": "code",
   "execution_count": 7,
   "id": "69a929bc",
   "metadata": {},
   "outputs": [
    {
     "name": "stdout",
     "output_type": "stream",
     "text": [
      "A: \n",
      " [[1 2 3]\n",
      " [4 5 6]]\n",
      "B: \n",
      " [7 8 9]\n",
      "Output\n",
      " [[ 8 10 12]\n",
      " [11 13 15]]\n"
     ]
    }
   ],
   "source": [
    "#Q12\n",
    "a = np.array([[1, 2, 3],\n",
    "              [4, 5, 6]])\n",
    "\n",
    "b = np.array([7,8,9])\n",
    "result = a + b\n",
    "\n",
    "print(\"A: \\n\", a)\n",
    "print(\"B: \\n\",b)\n",
    "\n",
    "print(\"Output\\n\", result)"
   ]
  }
 ],
 "metadata": {
  "kernelspec": {
   "display_name": "Python 3 (ipykernel)",
   "language": "python",
   "name": "python3"
  },
  "language_info": {
   "codemirror_mode": {
    "name": "ipython",
    "version": 3
   },
   "file_extension": ".py",
   "mimetype": "text/x-python",
   "name": "python",
   "nbconvert_exporter": "python",
   "pygments_lexer": "ipython3",
   "version": "3.7.5"
  }
 },
 "nbformat": 4,
 "nbformat_minor": 5
}
